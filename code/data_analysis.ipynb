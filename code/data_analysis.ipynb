{
 "cells": [
  {
   "cell_type": "code",
   "execution_count": null,
   "id": "693e77bd",
   "metadata": {},
   "outputs": [],
   "source": [
    "import pandas as pd\n",
    "import matplotlib.pyplot as plt"
   ]
  },
  {
   "cell_type": "markdown",
   "id": "b9e2e5dd",
   "metadata": {},
   "source": [
    "# Summarise the data"
   ]
  },
  {
   "cell_type": "code",
   "execution_count": 129,
   "id": "5b6affa3",
   "metadata": {},
   "outputs": [],
   "source": [
    "def summarise(df: pd.DataFrame, data_name: str) -> pd.DataFrame:\n",
    "\n",
    "    # features\n",
    "    n_features = len(df.columns) - 2\n",
    "\n",
    "    # outcome\n",
    "    outcome_series = df.death_2years.dropna()\n",
    "    n_outcome = len(outcome_series)\n",
    "    percent_outcome = round(100*outcome_series.mean(), 1)\n",
    "\n",
    "    # final\n",
    "    summary_df = pd.DataFrame({\n",
    "        \"Dataset\": [data_name],\n",
    "        \"Observations\": [n_outcome],\n",
    "        \"Number of features\": [n_features],\n",
    "        \"Percent dead within 2 years\": [f\"{percent_outcome}%\"]\n",
    "    })\n",
    "\n",
    "    return summary_df"
   ]
  },
  {
   "cell_type": "code",
   "execution_count": 130,
   "id": "0ff00486",
   "metadata": {},
   "outputs": [],
   "source": [
    "# load data\n",
    "clinical1 = pd.read_csv(\"../data/clean/clinical1.csv\")\n",
    "clinical2 = pd.read_csv(\"../data/clean/clinical2.csv\")\n",
    "clinical_joined = pd.read_csv(\"../data/clean/clinical_joined.csv\")\n",
    "\n",
    "image_dict = {f\"batch_{i}\": pd.read_csv(f\"../data/clean/image_features_{i}.csv\") for i in range(1, 13)}\n",
    "\n",
    "image_features = pd.concat([df for df in image_dict.values()])\n",
    "\n",
    "full_data = clinical_joined.merge(right=image_features.drop(columns=[\"death_2years\"]),\n",
    "                                  on=\"patient_id\",\n",
    "                                  how=\"left\")"
   ]
  },
  {
   "cell_type": "code",
   "execution_count": 131,
   "id": "337f6029",
   "metadata": {},
   "outputs": [],
   "source": [
    "data = [\n",
    "    summarise(clinical1, \"Clinical1\"),\n",
    "    summarise(clinical2, \"Clinical2\"),\n",
    "    summarise(clinical_joined, \"Clinical Joined\"),\n",
    "    summarise(image_features, \"Image Features\"),\n",
    "    summarise(full_data, \"Full Data\")\n",
    "]\n",
    "summary = pd.concat(data, axis=0).set_index(\"Dataset\")"
   ]
  },
  {
   "cell_type": "code",
   "execution_count": 132,
   "id": "7f87db03",
   "metadata": {},
   "outputs": [
    {
     "data": {
      "text/html": [
       "<div>\n",
       "<style scoped>\n",
       "    .dataframe tbody tr th:only-of-type {\n",
       "        vertical-align: middle;\n",
       "    }\n",
       "\n",
       "    .dataframe tbody tr th {\n",
       "        vertical-align: top;\n",
       "    }\n",
       "\n",
       "    .dataframe thead th {\n",
       "        text-align: right;\n",
       "    }\n",
       "</style>\n",
       "<table border=\"1\" class=\"dataframe\">\n",
       "  <thead>\n",
       "    <tr style=\"text-align: right;\">\n",
       "      <th></th>\n",
       "      <th>Observations</th>\n",
       "      <th>Number of features</th>\n",
       "      <th>Percent dead within 2 years</th>\n",
       "    </tr>\n",
       "    <tr>\n",
       "      <th>Dataset</th>\n",
       "      <th></th>\n",
       "      <th></th>\n",
       "      <th></th>\n",
       "    </tr>\n",
       "  </thead>\n",
       "  <tbody>\n",
       "    <tr>\n",
       "      <th>Clinical1</th>\n",
       "      <td>420</td>\n",
       "      <td>7</td>\n",
       "      <td>59.8%</td>\n",
       "    </tr>\n",
       "    <tr>\n",
       "      <th>Clinical2</th>\n",
       "      <td>180</td>\n",
       "      <td>26</td>\n",
       "      <td>20.0%</td>\n",
       "    </tr>\n",
       "    <tr>\n",
       "      <th>Clinical Joined</th>\n",
       "      <td>600</td>\n",
       "      <td>7</td>\n",
       "      <td>47.8%</td>\n",
       "    </tr>\n",
       "    <tr>\n",
       "      <th>Image Features</th>\n",
       "      <td>421</td>\n",
       "      <td>19</td>\n",
       "      <td>59.9%</td>\n",
       "    </tr>\n",
       "    <tr>\n",
       "      <th>Full Data</th>\n",
       "      <td>600</td>\n",
       "      <td>26</td>\n",
       "      <td>47.8%</td>\n",
       "    </tr>\n",
       "  </tbody>\n",
       "</table>\n",
       "</div>"
      ],
      "text/plain": [
       "                 Observations  Number of features Percent dead within 2 years\n",
       "Dataset                                                                      \n",
       "Clinical1                 420                   7                       59.8%\n",
       "Clinical2                 180                  26                       20.0%\n",
       "Clinical Joined           600                   7                       47.8%\n",
       "Image Features            421                  19                       59.9%\n",
       "Full Data                 600                  26                       47.8%"
      ]
     },
     "execution_count": 132,
     "metadata": {},
     "output_type": "execute_result"
    }
   ],
   "source": [
    "summary"
   ]
  },
  {
   "cell_type": "markdown",
   "id": "436c9457",
   "metadata": {},
   "source": [
    "# Format results"
   ]
  },
  {
   "cell_type": "code",
   "execution_count": 133,
   "id": "22584f44",
   "metadata": {},
   "outputs": [],
   "source": [
    "# load the results\n",
    "clinical1_results = pd.read_csv(\"../results/clinical1_model_metrics.csv\", header=[0, 1])\n",
    "clinical2_results = pd.read_csv(\"../results/clinical2_model_metrics.csv\", header=[0, 1])\n",
    "clinical_joined_results = pd.read_csv(\"../results/clinical_joined_model_metrics.csv\", header=[0, 1])\n",
    "image_features_results = pd.read_csv(\"../results/image_features_model_metrics.csv\", header=[0, 1])\n",
    "full_data_results = pd.read_csv(\"../results/full_data_model_metrics.csv\", header=[0, 1])"
   ]
  },
  {
   "cell_type": "code",
   "execution_count": 134,
   "id": "3333b72a",
   "metadata": {},
   "outputs": [],
   "source": [
    "results = [\n",
    "    clinical1_results,\n",
    "    clinical2_results,\n",
    "    clinical_joined_results,\n",
    "    image_features_results,\n",
    "    full_data_results\n",
    "]\n",
    "\n",
    "metrics = pd.concat(results, axis=0)\n",
    "\n",
    "column_names = [(\"\", \"Dataset\")] + [metrics.columns[i] for i in range(1, len(metrics.columns))]\n",
    "columns = pd.MultiIndex.from_tuples(column_names)\n",
    "metrics.columns = columns\n",
    "\n",
    "metrics = metrics.reset_index(drop=True)"
   ]
  },
  {
   "cell_type": "code",
   "execution_count": 135,
   "id": "9be60b63",
   "metadata": {},
   "outputs": [
    {
     "data": {
      "text/html": [
       "<div>\n",
       "<style scoped>\n",
       "    .dataframe tbody tr th:only-of-type {\n",
       "        vertical-align: middle;\n",
       "    }\n",
       "\n",
       "    .dataframe tbody tr th {\n",
       "        vertical-align: top;\n",
       "    }\n",
       "\n",
       "    .dataframe thead tr th {\n",
       "        text-align: left;\n",
       "    }\n",
       "</style>\n",
       "<table border=\"1\" class=\"dataframe\">\n",
       "  <thead>\n",
       "    <tr>\n",
       "      <th></th>\n",
       "      <th></th>\n",
       "      <th colspan=\"3\" halign=\"left\">LASSO</th>\n",
       "      <th colspan=\"3\" halign=\"left\">MLP</th>\n",
       "    </tr>\n",
       "    <tr>\n",
       "      <th></th>\n",
       "      <th>Dataset</th>\n",
       "      <th>Weighted Accuracy</th>\n",
       "      <th>AUC</th>\n",
       "      <th>F1 Score</th>\n",
       "      <th>Weighted Accuracy</th>\n",
       "      <th>AUC</th>\n",
       "      <th>F1 Score</th>\n",
       "    </tr>\n",
       "  </thead>\n",
       "  <tbody>\n",
       "    <tr>\n",
       "      <th>0</th>\n",
       "      <td>Clinical1</td>\n",
       "      <td>0.50</td>\n",
       "      <td>0.48</td>\n",
       "      <td>0.70</td>\n",
       "      <td>0.52</td>\n",
       "      <td>0.49</td>\n",
       "      <td>0.67</td>\n",
       "    </tr>\n",
       "    <tr>\n",
       "      <th>1</th>\n",
       "      <td>Clinical2</td>\n",
       "      <td>0.88</td>\n",
       "      <td>0.90</td>\n",
       "      <td>0.75</td>\n",
       "      <td>0.74</td>\n",
       "      <td>0.87</td>\n",
       "      <td>0.53</td>\n",
       "    </tr>\n",
       "    <tr>\n",
       "      <th>2</th>\n",
       "      <td>Clinical Joined</td>\n",
       "      <td>0.66</td>\n",
       "      <td>0.69</td>\n",
       "      <td>0.63</td>\n",
       "      <td>0.66</td>\n",
       "      <td>0.69</td>\n",
       "      <td>0.64</td>\n",
       "    </tr>\n",
       "    <tr>\n",
       "      <th>3</th>\n",
       "      <td>Image Features</td>\n",
       "      <td>0.51</td>\n",
       "      <td>0.53</td>\n",
       "      <td>0.64</td>\n",
       "      <td>0.51</td>\n",
       "      <td>0.53</td>\n",
       "      <td>0.58</td>\n",
       "    </tr>\n",
       "    <tr>\n",
       "      <th>4</th>\n",
       "      <td>Full Data</td>\n",
       "      <td>0.66</td>\n",
       "      <td>0.71</td>\n",
       "      <td>0.62</td>\n",
       "      <td>0.64</td>\n",
       "      <td>0.69</td>\n",
       "      <td>0.57</td>\n",
       "    </tr>\n",
       "  </tbody>\n",
       "</table>\n",
       "</div>"
      ],
      "text/plain": [
       "                               LASSO                              MLP        \\\n",
       "           Dataset Weighted Accuracy   AUC F1 Score Weighted Accuracy   AUC   \n",
       "0        Clinical1              0.50  0.48     0.70              0.52  0.49   \n",
       "1        Clinical2              0.88  0.90     0.75              0.74  0.87   \n",
       "2  Clinical Joined              0.66  0.69     0.63              0.66  0.69   \n",
       "3   Image Features              0.51  0.53     0.64              0.51  0.53   \n",
       "4        Full Data              0.66  0.71     0.62              0.64  0.69   \n",
       "\n",
       "            \n",
       "  F1 Score  \n",
       "0     0.67  \n",
       "1     0.53  \n",
       "2     0.64  \n",
       "3     0.58  \n",
       "4     0.57  "
      ]
     },
     "execution_count": 135,
     "metadata": {},
     "output_type": "execute_result"
    }
   ],
   "source": [
    "metrics"
   ]
  },
  {
   "cell_type": "markdown",
   "id": "b5dcd1f1",
   "metadata": {},
   "source": [
    "# Create subplot figures"
   ]
  },
  {
   "cell_type": "code",
   "execution_count": null,
   "id": "57ea6f1e",
   "metadata": {},
   "outputs": [],
   "source": [
    "images = [\"../results/feature_plots/lreg_clinical2_model_coefs.png\",\n",
    "          \"../results/feature_plots/mlp_clinical2_model_shap.png\"]"
   ]
  },
  {
   "cell_type": "code",
   "execution_count": 222,
   "id": "95852d35",
   "metadata": {},
   "outputs": [],
   "source": [
    "fig, ax = plt.subplot_mosaic([[\"a)\"], [\"b)\"]], layout=\"constrained\", figsize=(16, 16))\n",
    "\n",
    "lreg_img = plt.imread(images[0])\n",
    "mlp_img = plt.imread(images[1])\n",
    "\n",
    "ax[\"a)\"].text(0.0, 1.0, \"a)\", fontsize=18, va='bottom', fontfamily='serif')\n",
    "ax[\"a)\"].imshow(lreg_img)\n",
    "ax[\"a)\"].axis(\"off\")\n",
    "\n",
    "ax[\"b)\"].text(0.0, 1.0, \"b)\", fontsize=18, va='top', fontfamily='serif')\n",
    "ax[\"b)\"].imshow(mlp_img)\n",
    "ax[\"b)\"].axis(\"off\")\n",
    "\n",
    "plt.savefig(\"../results/clinical2_feature_importance.png\")\n",
    "plt.close()"
   ]
  },
  {
   "cell_type": "code",
   "execution_count": null,
   "id": "221f260a",
   "metadata": {},
   "outputs": [],
   "source": []
  }
 ],
 "metadata": {
  "kernelspec": {
   "display_name": "mldm-env",
   "language": "python",
   "name": "python3"
  },
  "language_info": {
   "codemirror_mode": {
    "name": "ipython",
    "version": 3
   },
   "file_extension": ".py",
   "mimetype": "text/x-python",
   "name": "python",
   "nbconvert_exporter": "python",
   "pygments_lexer": "ipython3",
   "version": "3.12.0"
  }
 },
 "nbformat": 4,
 "nbformat_minor": 5
}
